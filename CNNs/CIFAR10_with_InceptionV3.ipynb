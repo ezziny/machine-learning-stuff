{
 "cells": [
  {
   "cell_type": "markdown",
   "metadata": {
    "id": "_awQb7PEOceE"
   },
   "source": [
    "# **Imports**\n"
   ]
  },
  {
   "cell_type": "code",
   "execution_count": 2,
   "metadata": {
    "id": "Rhk8tXTXOfbW"
   },
   "outputs": [],
   "source": [
    "import tensorflow as tf\n",
    "from tensorflow.keras import layers, models\n",
    "from tensorflow.keras.datasets import cifar10\n",
    "from tensorflow.keras.applications import InceptionV3\n",
    "from tensorflow.keras.preprocessing.image import ImageDataGenerator"
   ]
  },
  {
   "cell_type": "markdown",
   "metadata": {
    "id": "dFhc2U5_Om8W"
   },
   "source": [
    "# **Loading Data**"
   ]
  },
  {
   "cell_type": "code",
   "execution_count": 2,
   "metadata": {
    "colab": {
     "base_uri": "https://localhost:8080/"
    },
    "id": "nyCpxAvWOqS_",
    "outputId": "9d28707e-5de2-4059-a339-5fdcbe602206"
   },
   "outputs": [
    {
     "name": "stdout",
     "output_type": "stream",
     "text": [
      "Downloading data from https://www.cs.toronto.edu/~kriz/cifar-10-python.tar.gz\n",
      "170498071/170498071 [==============================] - 13s 0us/step\n"
     ]
    }
   ],
   "source": [
    "(train_images, train_labels), (test_images, test_labels) = cifar10.load_data()\n",
    "train_images, test_images = train_images / 255.0, test_images / 255.0"
   ]
  },
  {
   "cell_type": "markdown",
   "metadata": {
    "id": "SQ9Lo9DSPWW9"
   },
   "source": [
    "# **Loading Pre-trained MODEL**"
   ]
  },
  {
   "cell_type": "code",
   "execution_count": 3,
   "metadata": {
    "colab": {
     "base_uri": "https://localhost:8080/"
    },
    "id": "He_nT0q4Pa9f",
    "outputId": "a8f9668c-40f9-43ed-bda9-4746e6c6a4f2"
   },
   "outputs": [
    {
     "name": "stdout",
     "output_type": "stream",
     "text": [
      "Downloading data from https://storage.googleapis.com/tensorflow/keras-applications/inception_v3/inception_v3_weights_tf_dim_ordering_tf_kernels_notop.h5\n",
      "87910968/87910968 [==============================] - 4s 0us/step\n"
     ]
    }
   ],
   "source": [
    "base_model = InceptionV3(weights='imagenet', include_top=False, input_shape=(96, 96, 3))\n",
    "base_model.trainable = False"
   ]
  },
  {
   "cell_type": "markdown",
   "metadata": {
    "id": "1Kk2rstwMfFm"
   },
   "source": [
    "# **Building the model**"
   ]
  },
  {
   "cell_type": "code",
   "execution_count": 4,
   "metadata": {
    "id": "_m9-w1-AQKQG"
   },
   "outputs": [],
   "source": [
    "model = models.Sequential([\n",
    "    layers.UpSampling2D(size=(3, 3)),\n",
    "    base_model,\n",
    "    layers.GlobalAveragePooling2D(),\n",
    "    layers.Dense(10, activation='softmax')\n",
    "])"
   ]
  },
  {
   "cell_type": "markdown",
   "metadata": {
    "id": "8YVly2YAMlu9"
   },
   "source": [
    "# **Compiling & Fitting The Model**"
   ]
  },
  {
   "cell_type": "code",
   "execution_count": 5,
   "metadata": {
    "colab": {
     "base_uri": "https://localhost:8080/"
    },
    "id": "ZYT-oaKlY8dE",
    "outputId": "4dd3b82f-b87b-49e4-84c2-d7e00c4d666b"
   },
   "outputs": [
    {
     "name": "stdout",
     "output_type": "stream",
     "text": [
      "Epoch 1/17\n",
      "1563/1563 [==============================] - 37s 18ms/step - loss: 1.1892 - accuracy: 0.6042\n",
      "Epoch 2/17\n",
      "1563/1563 [==============================] - 27s 17ms/step - loss: 1.0047 - accuracy: 0.6677\n",
      "Epoch 3/17\n",
      "1563/1563 [==============================] - 28s 18ms/step - loss: 0.9609 - accuracy: 0.6788\n",
      "Epoch 4/17\n",
      "1563/1563 [==============================] - 28s 18ms/step - loss: 0.9379 - accuracy: 0.6866\n",
      "Epoch 5/17\n",
      "1563/1563 [==============================] - 28s 18ms/step - loss: 0.9197 - accuracy: 0.6917\n",
      "Epoch 6/17\n",
      "1563/1563 [==============================] - 28s 18ms/step - loss: 0.9077 - accuracy: 0.6959\n",
      "Epoch 7/17\n",
      "1563/1563 [==============================] - 28s 18ms/step - loss: 0.8998 - accuracy: 0.6959\n",
      "Epoch 8/17\n",
      "1563/1563 [==============================] - 27s 18ms/step - loss: 0.8848 - accuracy: 0.7014\n",
      "Epoch 9/17\n",
      "1563/1563 [==============================] - 28s 18ms/step - loss: 0.8791 - accuracy: 0.7038\n",
      "Epoch 10/17\n",
      "1563/1563 [==============================] - 36s 23ms/step - loss: 0.8779 - accuracy: 0.7042\n",
      "Epoch 11/17\n",
      "1563/1563 [==============================] - 29s 18ms/step - loss: 0.8715 - accuracy: 0.7076\n",
      "Epoch 12/17\n",
      "1563/1563 [==============================] - 27s 18ms/step - loss: 0.8682 - accuracy: 0.7075\n",
      "Epoch 13/17\n",
      "1563/1563 [==============================] - 28s 18ms/step - loss: 0.8632 - accuracy: 0.7078\n",
      "Epoch 14/17\n",
      "1563/1563 [==============================] - 28s 18ms/step - loss: 0.8625 - accuracy: 0.7090\n",
      "Epoch 15/17\n",
      "1563/1563 [==============================] - 28s 18ms/step - loss: 0.8558 - accuracy: 0.7104\n",
      "Epoch 16/17\n",
      "1563/1563 [==============================] - 27s 18ms/step - loss: 0.8542 - accuracy: 0.7110\n",
      "Epoch 17/17\n",
      "1563/1563 [==============================] - 28s 18ms/step - loss: 0.8485 - accuracy: 0.7132\n"
     ]
    },
    {
     "data": {
      "text/plain": [
       "<keras.src.callbacks.History at 0x7e55f8783be0>"
      ]
     },
     "execution_count": 5,
     "metadata": {},
     "output_type": "execute_result"
    }
   ],
   "source": [
    "model.compile(optimizer='adam',loss='sparse_categorical_crossentropy',metrics=['accuracy'])\n",
    "\n",
    "model.fit(train_images, train_labels, epochs=17)"
   ]
  },
  {
   "cell_type": "markdown",
   "metadata": {
    "id": "R-es1KgyNEIA"
   },
   "source": [
    "# **Evaluation**"
   ]
  },
  {
   "cell_type": "code",
   "execution_count": 6,
   "metadata": {
    "colab": {
     "base_uri": "https://localhost:8080/"
    },
    "id": "Kp-IzxXyWlTA",
    "outputId": "d2979d1f-3955-4f25-c4c5-ba2f8927aff4"
   },
   "outputs": [
    {
     "name": "stdout",
     "output_type": "stream",
     "text": [
      "313/313 [==============================] - 6s 14ms/step\n"
     ]
    }
   ],
   "source": [
    "import numpy as np\n",
    "from sklearn.metrics import confusion_matrix\n",
    "\n",
    "y_pred = model.predict(test_images)\n",
    "y_pred_classes = np.argmax(y_pred, axis=1)\n",
    "conf_matrix = confusion_matrix(test_labels, y_pred_classes)"
   ]
  },
  {
   "cell_type": "code",
   "execution_count": 7,
   "metadata": {
    "id": "OLQgKVfcQn_G"
   },
   "outputs": [],
   "source": [
    "from sklearn.metrics import precision_score, recall_score, f1_score\n",
    "\n",
    "precision = precision_score(test_labels, y_pred_classes, average='macro')\n",
    "recall = recall_score(test_labels, y_pred_classes, average='macro')\n",
    "f1 = f1_score(test_labels, y_pred_classes, average='macro')\n"
   ]
  },
  {
   "cell_type": "code",
   "execution_count": 8,
   "metadata": {
    "colab": {
     "base_uri": "https://localhost:8080/"
    },
    "id": "t2ABjif6V61O",
    "outputId": "90ae1148-245d-475e-f2c3-7394b5983282"
   },
   "outputs": [
    {
     "name": "stdout",
     "output_type": "stream",
     "text": [
      "Precision: 0.6534618164494674\n",
      "Recall: 0.6485\n",
      "F1 Score: 0.648324085498362\n"
     ]
    }
   ],
   "source": [
    "print(\"Precision:\", precision)\n",
    "print(\"Recall:\", recall)\n",
    "print(\"F1 Score:\", f1)\n"
   ]
  },
  {
   "cell_type": "code",
   "execution_count": 10,
   "metadata": {
    "colab": {
     "base_uri": "https://localhost:8080/",
     "height": 564
    },
    "id": "pZUyvaygYrBE",
    "outputId": "d5bccbf2-db0a-40e6-89ab-680d9a227d1c"
   },
   "outputs": [
    {
     "data": {
      "image/png": "[encoded data removed]",
      "text/plain": [
       "<Figure size 800x600 with 2 Axes>"
      ]
     },
     "metadata": {},
     "output_type": "display_data"
    }
   ],
   "source": [
    "import matplotlib.pyplot as plt\n",
    "\n",
    "plt.figure(figsize=(8, 6))\n",
    "plt.imshow(conf_matrix, interpolation='nearest', cmap=plt.cm.Blues)\n",
    "plt.title('Confusion Matrix')\n",
    "plt.colorbar()\n",
    "\n",
    "classes = range(10)\n",
    "tick_marks = np.arange(len(classes))\n",
    "plt.xticks(tick_marks, classes)\n",
    "plt.yticks(tick_marks, classes)\n",
    "\n",
    "plt.xlabel('Predicted')\n",
    "plt.ylabel('True')\n",
    "plt.show()"
   ]
  },
  {
   "cell_type": "code",
   "execution_count": null,
   "metadata": {
    "id": "pn1FPAsKNsYK"
   },
   "outputs": [],
   "source": []
  }
 ],
 "metadata": {
  "accelerator": "GPU",
  "colab": {
   "gpuType": "T4",
   "provenance": []
  },
  "kernelspec": {
   "display_name": "Python 3 (ipykernel)",
   "language": "python",
   "name": "python3"
  },
  "language_info": {
   "codemirror_mode": {
    "name": "ipython",
    "version": 3
   },
   "file_extension": ".py",
   "mimetype": "text/x-python",
   "name": "python",
   "nbconvert_exporter": "python",
   "pygments_lexer": "ipython3",
   "version": "3.9.13"
  }
 },
 "nbformat": 4,
 "nbformat_minor": 1
}

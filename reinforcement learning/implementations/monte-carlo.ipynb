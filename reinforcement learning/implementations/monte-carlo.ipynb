{
 "cells": [
  {
   "cell_type": "code",
   "execution_count": 1,
   "id": "971eaf85",
   "metadata": {
    "_cell_guid": "b1076dfc-b9ad-4769-8c92-a6c4dae69d19",
    "_uuid": "8f2839f25d086af736a60e9eeb907d3b93b6e0e5",
    "execution": {
     "iopub.execute_input": "2024-05-13T21:32:52.304453Z",
     "iopub.status.busy": "2024-05-13T21:32:52.303373Z",
     "iopub.status.idle": "2024-05-13T21:52:30.967785Z",
     "shell.execute_reply": "2024-05-13T21:52:30.966550Z"
    },
    "papermill": {
     "duration": 1178.675404,
     "end_time": "2024-05-13T21:52:30.974376",
     "exception": false,
     "start_time": "2024-05-13T21:32:52.298972",
     "status": "completed"
    },
    "tags": []
   },
   "outputs": [
    {
     "name": "stdout",
     "output_type": "stream",
     "text": [
      "Collecting pygame\r\n",
      "  Downloading pygame-2.5.2-cp310-cp310-manylinux_2_17_x86_64.manylinux2014_x86_64.whl.metadata (13 kB)\r\n",
      "Downloading pygame-2.5.2-cp310-cp310-manylinux_2_17_x86_64.manylinux2014_x86_64.whl (14.0 MB)\r\n",
      "\u001b[2K   \u001b[90m━━━━━━━━━━━━━━━━━━━━━━━━━━━━━━━━━━━━━━━━\u001b[0m \u001b[32m14.0/14.0 MB\u001b[0m \u001b[31m31.8 MB/s\u001b[0m eta \u001b[36m0:00:00\u001b[0m\r\n",
      "\u001b[?25hInstalling collected packages: pygame\r\n",
      "Successfully installed pygame-2.5.2\r\n"
     ]
    },
    {
     "name": "stderr",
     "output_type": "stream",
     "text": [
      "/opt/conda/lib/python3.10/site-packages/gym/utils/passive_env_checker.py:233: DeprecationWarning: `np.bool8` is a deprecated alias for `np.bool_`.  (Deprecated NumPy 1.24)\n",
      "  if not isinstance(terminated, (bool, np.bool8)):\n"
     ]
    },
    {
     "name": "stdout",
     "output_type": "stream",
     "text": [
      "Episode 100, Average Reward (last 100 episodes): 31.75\n",
      "Episode 200, Average Reward (last 100 episodes): 69.15\n",
      "Episode 300, Average Reward (last 100 episodes): 92.00\n",
      "Episode 400, Average Reward (last 100 episodes): 116.05\n",
      "Episode 500, Average Reward (last 100 episodes): 115.10\n",
      "Solved in 558 episodes!\n"
     ]
    }
   ],
   "source": [
    "!pip install pygame\n",
    "import gym\n",
    "import collections\n",
    "import numpy as np\n",
    "from operator import itemgetter\n",
    "\n",
    "def discretize(observation, bins):\n",
    "    discrete_obs = [np.digitize(obs, bins[i]) for i, obs in enumerate(observation)]\n",
    "    return tuple(discrete_obs)\n",
    "\n",
    "def choose_action(Q, state, epsilon, env):\n",
    "    if state not in Q or np.random.rand() < epsilon:\n",
    "        return env.action_space.sample()\n",
    "    else:\n",
    "        return np.argmax(Q[state])\n",
    "\n",
    "def update_Q(Q, alpha, episode, gamma):\n",
    "    states, actions, rewards = zip(*episode)\n",
    "    discounts = np.array([gamma**i for i in range(len(rewards)+1)])\n",
    "    for i, state in enumerate(states):\n",
    "        old_Q = Q[state][actions[i]]\n",
    "        G_t = sum(rewards[i:]*discounts[:-(1+i)])\n",
    "        Q[state][actions[i]] = old_Q + alpha * (G_t - old_Q)\n",
    "\n",
    "def train(env, episodes=5000, gamma=0.99, epsilon=1.0, epsilon_decay=0.995, epsilon_min=0.01, alpha=0.1):\n",
    "    num_bins = (6, 12, 12, 24)  # Define the number of bins for each observation\n",
    "    bins = [\n",
    "        np.linspace(-2.4, 2.4, num_bins[0]),\n",
    "        np.linspace(-5, 5, num_bins[1]),\n",
    "        np.linspace(-0.418, 0.418, num_bins[2]),\n",
    "        np.linspace(-5, 5, num_bins[3])\n",
    "    ]\n",
    "\n",
    "    Q = collections.defaultdict(lambda: np.zeros(env.action_space.n))\n",
    "    rewards = []\n",
    "\n",
    "    for episode in range(episodes):\n",
    "        state = discretize(env.reset()[0], bins)\n",
    "        episode_data = []\n",
    "        done = False\n",
    "\n",
    "        while not done:\n",
    "            action = choose_action(Q, state, epsilon, env)\n",
    "            next_state, reward, done, i,j = env.step(action)\n",
    "            next_state = discretize(next_state, bins)\n",
    "            episode_data.append((state, action, reward))\n",
    "            state = next_state\n",
    "\n",
    "        rewards.append(sum([r for (_, _, r) in episode_data]))\n",
    "        update_Q(Q, alpha, episode_data, gamma)\n",
    "\n",
    "        epsilon = max(epsilon_min, epsilon * epsilon_decay)\n",
    "\n",
    "        if episode >= 100 and np.mean(rewards[-100:]) >= 195.0:\n",
    "            print(f\"Solved in {episode + 1} episodes!\")\n",
    "            break\n",
    "\n",
    "        if (episode + 1) % 100 == 0:\n",
    "            print(f\"Episode {episode + 1}, Average Reward (last 100 episodes): {np.mean(rewards[-100:]):.2f}\")\n",
    "env = gym.make('CartPole-v1', render_mode=\"human\")\n",
    "train(env)"
   ]
  },
  {
   "cell_type": "code",
   "execution_count": null,
   "id": "6a55c249",
   "metadata": {
    "papermill": {
     "duration": 0.003639,
     "end_time": "2024-05-13T21:52:30.982208",
     "exception": false,
     "start_time": "2024-05-13T21:52:30.978569",
     "status": "completed"
    },
    "tags": []
   },
   "outputs": [],
   "source": []
  }
 ],
 "metadata": {
  "kaggle": {
   "accelerator": "none",
   "dataSources": [],
   "dockerImageVersionId": 30698,
   "isGpuEnabled": false,
   "isInternetEnabled": true,
   "language": "python",
   "sourceType": "notebook"
  },
  "kernelspec": {
   "display_name": "Python 3",
   "language": "python",
   "name": "python3"
  },
  "language_info": {
   "codemirror_mode": {
    "name": "ipython",
    "version": 3
   },
   "file_extension": ".py",
   "mimetype": "text/x-python",
   "name": "python",
   "nbconvert_exporter": "python",
   "pygments_lexer": "ipython3",
   "version": "3.10.13"
  },
  "papermill": {
   "default_parameters": {},
   "duration": 1182.127338,
   "end_time": "2024-05-13T21:52:31.410393",
   "environment_variables": {},
   "exception": null,
   "input_path": "__notebook__.ipynb",
   "output_path": "__notebook__.ipynb",
   "parameters": {},
   "start_time": "2024-05-13T21:32:49.283055",
   "version": "2.5.0"
  }
 },
 "nbformat": 4,
 "nbformat_minor": 5
}

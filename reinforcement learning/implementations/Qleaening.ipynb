{
 "metadata": {
  "kernelspec": {
   "language": "python",
   "display_name": "Python 3",
   "name": "python3"
  },
  "language_info": {
   "name": "python",
   "version": "3.10.13",
   "mimetype": "text/x-python",
   "codemirror_mode": {
    "name": "ipython",
    "version": 3
   },
   "pygments_lexer": "ipython3",
   "nbconvert_exporter": "python",
   "file_extension": ".py"
  },
  "kaggle": {
   "accelerator": "none",
   "dataSources": [],
   "dockerImageVersionId": 30698,
   "isInternetEnabled": true,
   "language": "python",
   "sourceType": "notebook",
   "isGpuEnabled": false
  }
 },
 "nbformat_minor": 4,
 "nbformat": 4,
 "cells": [
  {
   "cell_type": "code",
   "source": [
    "!pip install pygame\n",
    "import gym\n",
    "import collections\n",
    "import numpy as np\n",
    "from operator import itemgetter\n",
    "\n",
    "def discretize(observation, bins):\n",
    "    discrete_obs = [np.digitize(obs, bins[i]) for i, obs in enumerate(observation)]\n",
    "    return tuple(discrete_obs)\n",
    "\n",
    "def choose_action(Q, state, epsilon, env):\n",
    "    if np.random.rand() < epsilon:\n",
    "        return env.action_space.sample()\n",
    "    else:\n",
    "        return np.argmax(Q[state])\n",
    "\n",
    "\n",
    "def update_Q(Q, alpha, state, action, reward, gamma, next_state):\n",
    "\n",
    "    next_state_q = np.max(Q[next_state])\n",
    "    state_q = Q[state+(action,)]\n",
    "    Q[state+(action,)] = state_q + alpha * (reward + gamma * next_state_q - state_q)\n",
    "\n",
    "\n",
    "def train(env, episodes=5000, gamma=0.99, epsilon=1.0, epsilon_decay=0.995, epsilon_min=0.01, alpha=0.1):\n",
    "    num_bins = [6, 12, 12, 24]  # Define the number of bins for each observation\n",
    "    bins = [\n",
    "        np.linspace(-2.4, 2.4, num_bins[0]),\n",
    "        np.linspace(-5, 5, num_bins[1]),\n",
    "        np.linspace(-0.418, 0.418, num_bins[2]),\n",
    "        np.linspace(-5, 5, num_bins[3])\n",
    "    ]\n",
    "\n",
    "    Q = np.random.uniform(low=0, high=1, size=(num_bins + [env.action_space.n]))\n",
    "    rewards = []\n",
    "\n",
    "    for episode in range(episodes):\n",
    "        observation = env.reset()[0]\n",
    "        state = discretize(tuple(observation), bins)\n",
    "        total_reward = 0\n",
    "        done = False\n",
    "\n",
    "        while not done:\n",
    "            action = choose_action(Q, state, epsilon, env)\n",
    "            obs, reward, done, i, j = env.step(action)\n",
    "\n",
    "            next_state = discretize(obs, bins)\n",
    "            update_Q(Q, alpha, state, action, reward, gamma, next_state)\n",
    "            state = next_state\n",
    "            total_reward += reward\n",
    "\n",
    "        rewards.append(total_reward)\n",
    "\n",
    "        epsilon = max(epsilon_min, epsilon * epsilon_decay)\n",
    "\n",
    "\n",
    "        if episode >= 100 and np.mean(rewards[-100:]) >= 195.0:\n",
    "            print(f\"Solved in {episode + 1} episodes! and avg reward (last 100 episodes): {np.mean(rewards[-100:]):.2f} \")\n",
    "            break\n",
    "\n",
    "        if (episode + 1) % 100 == 0:\n",
    "            print(f\"Episode {episode + 1}, Average Reward (last 100 episodes): {np.mean(rewards[-100:]):.2f}\")\n",
    "\n",
    "env = gym.make('CartPole-v1')\n",
    "\n",
    "train(env)"
   ],
   "metadata": {
    "_uuid": "8f2839f25d086af736a60e9eeb907d3b93b6e0e5",
    "_cell_guid": "b1076dfc-b9ad-4769-8c92-a6c4dae69d19",
    "execution": {
     "iopub.status.busy": "2024-05-13T22:16:45.447367Z",
     "iopub.execute_input": "2024-05-13T22:16:45.448441Z",
     "iopub.status.idle": "2024-05-13T22:17:17.491800Z",
     "shell.execute_reply.started": "2024-05-13T22:16:45.448388Z",
     "shell.execute_reply": "2024-05-13T22:17:17.490149Z"
    },
    "trusted": true
   },
   "execution_count": 7,
   "outputs": [
    {
     "name": "stdout",
     "text": "Requirement already satisfied: pygame in /opt/conda/lib/python3.10/site-packages (2.5.2)\nEpisode 100, Average Reward (last 100 episodes): 25.67\nEpisode 200, Average Reward (last 100 episodes): 33.08\nEpisode 300, Average Reward (last 100 episodes): 51.30\nEpisode 400, Average Reward (last 100 episodes): 103.12\nEpisode 500, Average Reward (last 100 episodes): 108.07\nEpisode 600, Average Reward (last 100 episodes): 88.22\nEpisode 700, Average Reward (last 100 episodes): 84.71\nEpisode 800, Average Reward (last 100 episodes): 104.64\nEpisode 900, Average Reward (last 100 episodes): 111.84\nEpisode 1000, Average Reward (last 100 episodes): 107.19\nEpisode 1100, Average Reward (last 100 episodes): 102.07\nEpisode 1200, Average Reward (last 100 episodes): 121.59\nEpisode 1300, Average Reward (last 100 episodes): 120.53\nEpisode 1400, Average Reward (last 100 episodes): 120.39\nEpisode 1500, Average Reward (last 100 episodes): 123.75\nEpisode 1600, Average Reward (last 100 episodes): 120.23\nEpisode 1700, Average Reward (last 100 episodes): 110.66\nEpisode 1800, Average Reward (last 100 episodes): 115.52\nEpisode 1900, Average Reward (last 100 episodes): 112.83\nEpisode 2000, Average Reward (last 100 episodes): 131.56\nEpisode 2100, Average Reward (last 100 episodes): 124.20\nEpisode 2200, Average Reward (last 100 episodes): 109.08\nEpisode 2300, Average Reward (last 100 episodes): 127.70\nEpisode 2400, Average Reward (last 100 episodes): 126.32\nEpisode 2500, Average Reward (last 100 episodes): 113.97\nEpisode 2600, Average Reward (last 100 episodes): 120.20\nEpisode 2700, Average Reward (last 100 episodes): 117.56\nEpisode 2800, Average Reward (last 100 episodes): 123.37\nEpisode 2900, Average Reward (last 100 episodes): 144.76\nEpisode 3000, Average Reward (last 100 episodes): 129.68\nSolved in 3040 episodes! and avg reward (last 100 episodes): 197.93 \n",
     "output_type": "stream"
    }
   ]
  },
  {
   "cell_type": "code",
   "source": [],
   "metadata": {},
   "execution_count": null,
   "outputs": []
  }
 ]
}

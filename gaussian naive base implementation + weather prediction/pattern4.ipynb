{
 "cells": [
  {
   "cell_type": "code",
   "execution_count": 4,
   "id": "3a2c259f",
   "metadata": {
    "id": "3a2c259f"
   },
   "outputs": [],
   "source": [
    "import numpy as np\n",
    "from sklearn.model_selection import train_test_split\n",
    "from sklearn.metrics import accuracy_score\n",
    "import pandas as pd\n",
    "from sklearn.naive_bayes import GaussianNB"
   ]
  },
  {
   "cell_type": "code",
   "execution_count": 5,
   "id": "264cd29c",
   "metadata": {
    "id": "264cd29c"
   },
   "outputs": [],
   "source": [
    "class naiveBase:\n",
    "\n",
    "    def __init__(self):\n",
    "        self.mean = {}\n",
    "        self.variance = {}\n",
    "        self.pre = {}\n",
    "        self.post = {}        \n",
    "\n",
    "    \n",
    "    def predict(self, X):\n",
    "        preds = []\n",
    "        for x in X:\n",
    "            for lable in self.lables:\n",
    "                LH = self.likelyhood(x, self.mean[lable], self.variance[lable])\n",
    "                self.post[lable] = LH * self.pre[lable]\n",
    "            preds.append(max(self.post, key=self.post.get))\n",
    "        return preds\n",
    "\n",
    "    def fit(self, X, y):\n",
    "        self.lables = np.unique(y)\n",
    "        n_samples = X.shape[0]\n",
    "\n",
    "        for lable in self.lables:\n",
    "            xl = X[y == lable]\n",
    "            self.mean[lable] = xl.mean(axis=0)\n",
    "            self.variance[lable] =  xl.var(axis=0)\n",
    "            # frequency of each class\n",
    "            self.pre[lable] = len(xl) / n_samples    \n",
    "\n",
    "    def likelyhood(self, x, mean, variance):\n",
    "        epsilon = 1e-9\n",
    "        exponent = np.exp(-((x - mean) ** 2) / (2 * (variance + epsilon)))\n",
    "        return np.product(exponent / np.sqrt(2 * np.pi * (variance + epsilon)))\n",
    "\n",
    "    # def predict_for_df(self, X):\n",
    "    #     preds = []\n",
    "    #     for _ , x in X.iterrows():\n",
    "    #         for lable in self.lables:\n",
    "    #             LH = self.likelyhood(x, self.mean[lable], self.variance[lable])\n",
    "    #             self.post[lable] = LH * self.pre[lable]\n",
    "    #         preds.append(max(self.post, key=self.post.get))\n",
    "    #     return preds"
   ]
  },
  {
   "cell_type": "markdown",
   "id": "2b0b8d80-2d1b-43c7-a097-81ea35aaa10f",
   "metadata": {},
   "source": [
    "# weather data"
   ]
  },
  {
   "cell_type": "code",
   "execution_count": 6,
   "id": "758edece",
   "metadata": {
    "id": "758edece"
   },
   "outputs": [],
   "source": [
    "from sklearn.preprocessing import LabelEncoder\n",
    "data = pd.read_csv('seattle-weather.csv')\n",
    "encoder = LabelEncoder()\n",
    "data['weather'] = encoder.fit_transform(data['weather'])\n",
    "lables = data['weather']\n",
    "features = data[['temp_min', 'temp_max', 'precipitation', 'wind']]\n",
    "X_train, X_test, y_train, y_test = train_test_split(features, lables, test_size=0.2, random_state = 123)\n",
    "\n",
    "X_train = X_train.values\n",
    "X_test = X_test.values\n",
    "y_train = y_train.values\n",
    "y_test = y_test.values"
   ]
  },
  {
   "cell_type": "code",
   "execution_count": 7,
   "id": "63cf2db2",
   "metadata": {
    "id": "63cf2db2"
   },
   "outputs": [],
   "source": [
    "model = naiveBase()\n",
    "model.fit(X_train, y_train)"
   ]
  },
  {
   "cell_type": "code",
   "execution_count": 8,
   "id": "ff8a2192",
   "metadata": {
    "colab": {
     "base_uri": "https://localhost:8080/"
    },
    "id": "ff8a2192",
    "outputId": "87ac31e4-5920-4966-e73a-5f331705eed1"
   },
   "outputs": [
    {
     "name": "stdout",
     "output_type": "stream",
     "text": [
      "Accuracy: 83.6%\n"
     ]
    }
   ],
   "source": [
    "y_predict = model.predict(X_test)\n",
    "accuracy = accuracy_score(y_test, y_predict)\n",
    "\n",
    "print(f\"Accuracy: {accuracy*100:0.1f}%\")"
   ]
  },
  {
   "cell_type": "markdown",
   "id": "c68472c1-1c11-41b6-ac73-6f477bab72e7",
   "metadata": {},
   "source": [
    "# comparing to sklearn model"
   ]
  },
  {
   "cell_type": "code",
   "execution_count": 9,
   "id": "84320401-66a8-4aa3-bf08-dc3acc573394",
   "metadata": {},
   "outputs": [
    {
     "data": {
      "text/plain": [
       "GaussianNB()"
      ]
     },
     "execution_count": 9,
     "metadata": {},
     "output_type": "execute_result"
    }
   ],
   "source": [
    "model = GaussianNB()\n",
    "model.fit(X_train, y_train)"
   ]
  },
  {
   "cell_type": "code",
   "execution_count": 10,
   "id": "2ecb5957-186a-4a92-ae37-a342111013b1",
   "metadata": {},
   "outputs": [
    {
     "name": "stdout",
     "output_type": "stream",
     "text": [
      "Accuracy: 83.6%\n"
     ]
    }
   ],
   "source": [
    "y_predict = model.predict(X_test)\n",
    "accuracy = accuracy_score(y_test, y_predict)\n",
    "\n",
    "print(f\"Accuracy: {accuracy*100:0.1f}%\")"
   ]
  },
  {
   "cell_type": "markdown",
   "id": "dbb4915b-ba8c-4634-af1a-1d9aaf3ca176",
   "metadata": {},
   "source": [
    "# IRIS data"
   ]
  },
  {
   "cell_type": "code",
   "execution_count": 11,
   "id": "6b88dc0d-8600-485c-8385-266abd8cfa0b",
   "metadata": {},
   "outputs": [],
   "source": [
    "from sklearn.datasets import load_iris\n",
    "iris = load_iris()\n",
    "X = iris.data\n",
    "y = iris.target\n",
    "X_train, X_test, y_train, y_test = train_test_split(X, y, test_size=0.2, random_state = 123)"
   ]
  },
  {
   "cell_type": "code",
   "execution_count": 12,
   "id": "e79944c2-c2c4-4702-97e3-8684dd473580",
   "metadata": {},
   "outputs": [],
   "source": [
    "model = naiveBase()\n",
    "model.fit(X_train, y_train)"
   ]
  },
  {
   "cell_type": "code",
   "execution_count": 13,
   "id": "18cd594e-83c4-41de-b199-067d03a0a45b",
   "metadata": {},
   "outputs": [
    {
     "name": "stdout",
     "output_type": "stream",
     "text": [
      "Accuracy: 96.7%\n"
     ]
    }
   ],
   "source": [
    "y_pred = model.predict(X_test)\n",
    "accuracy = accuracy_score(y_test, y_pred)\n",
    "\n",
    "print(f\"Accuracy: {accuracy*100:0.1f}%\")"
   ]
  },
  {
   "cell_type": "markdown",
   "id": "2f3aea68-5243-4c86-b727-c270a8125c8d",
   "metadata": {},
   "source": [
    "# comparing to sklearn model"
   ]
  },
  {
   "cell_type": "code",
   "execution_count": 14,
   "id": "6e083b9b-93a2-4817-b3ee-552c89ed3007",
   "metadata": {},
   "outputs": [
    {
     "data": {
      "text/plain": [
       "GaussianNB()"
      ]
     },
     "execution_count": 14,
     "metadata": {},
     "output_type": "execute_result"
    }
   ],
   "source": [
    "model = GaussianNB()\n",
    "model.fit(X_train, y_train)"
   ]
  },
  {
   "cell_type": "code",
   "execution_count": 15,
   "id": "e54b8474-95ca-4445-b276-4e587a2700b6",
   "metadata": {},
   "outputs": [
    {
     "name": "stdout",
     "output_type": "stream",
     "text": [
      "Accuracy: 96.7%\n"
     ]
    }
   ],
   "source": [
    "y_predict = model.predict(X_test)\n",
    "accuracy = accuracy_score(y_test, y_predict)\n",
    "\n",
    "print(f\"Accuracy: {accuracy*100:0.1f}%\")"
   ]
  },
  {
   "cell_type": "code",
   "execution_count": null,
   "id": "ab8b3ad7-d394-479f-beda-161a4c341c31",
   "metadata": {},
   "outputs": [],
   "source": []
  }
 ],
 "metadata": {
  "colab": {
   "provenance": []
  },
  "kernelspec": {
   "display_name": "Python 3 (ipykernel)",
   "language": "python",
   "name": "python3"
  },
  "language_info": {
   "codemirror_mode": {
    "name": "ipython",
    "version": 3
   },
   "file_extension": ".py",
   "mimetype": "text/x-python",
   "name": "python",
   "nbconvert_exporter": "python",
   "pygments_lexer": "ipython3",
   "version": "3.9.13"
  }
 },
 "nbformat": 4,
 "nbformat_minor": 5
}
